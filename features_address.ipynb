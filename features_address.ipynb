{
 "cells": [
  {
   "cell_type": "code",
   "execution_count": null,
   "id": "initial_id",
   "metadata": {
    "ExecuteTime": {
     "end_time": "2025-06-16T09:14:22.798534Z",
     "start_time": "2025-06-16T09:14:22.632132Z"
    },
    "collapsed": true
   },
   "outputs": [
    {
     "name": "stdout",
     "output_type": "stream",
     "text": [
      "                              address       category  label\n",
      "0  1129yN1itF5a5Hqgw7aenPKrom3fv8Aid1  coinjoin-like      0\n",
      "1  112b8ZjaJWGobxT7rAE8Qyw17bJa91jaec       gambling      1\n",
      "2  112LhEwGZk5mqpLz9Q33QG5FxZNbpgDwTL       exchange      0\n",
      "3  1136GYGTdySKCocdjqZphXiW4zoskXHqML       gambling      1\n",
      "4  113Nu2g1dE4d3oiUH1ozUysK2RBgC98pxx          miner      0\n"
     ]
    }
   ],
   "source": [
    "import pandas as pd\n",
    "\n",
    "df = pd.read_csv('labels_transactionsagg.csv')\n",
    "\n",
    "df = df.rename(columns={'label': 'category'})\n",
    "\n",
    "risky_categories = [\n",
    "    'mixer', 'gambling', 'darknet', 'ponzi', 'scam', 'blacklist', 'malware', 'ransomware', 'illegal'\n",
    "]\n",
    "\n",
    "# Create a label column: 1 for risky, 0 for non-risky\n",
    "df['label'] = df['category'].apply(lambda x: 1 if str(x).lower() in risky_categories else 0)\n",
    "\n",
    "# Drop other columns\n",
    "df = df[['address', 'category', 'label']].dropna()\n",
    "\n",
    "# Save to new CSV\n",
    "df.to_csv('wallets_labeled.csv', index=False)\n",
    "\n",
    "print(df.head())\n"
   ]
  },
  {
   "cell_type": "markdown",
   "id": "bdfb215f",
   "metadata": {},
   "source": [
    "Extracting from normal dataset"
   ]
  },
  {
   "cell_type": "code",
   "execution_count": null,
   "id": "74f97cbd353f388e",
   "metadata": {
    "ExecuteTime": {
     "end_time": "2025-06-18T22:24:42.519021Z",
     "start_time": "2025-06-18T22:24:39.076833Z"
    }
   },
   "outputs": [
    {
     "name": "stderr",
     "output_type": "stream",
     "text": [
      "/Users/mariyemahmed/Desktop/AML_Screener/.venv/lib/python3.9/site-packages/urllib3/__init__.py:35: NotOpenSSLWarning: urllib3 v2 only supports OpenSSL 1.1.1+, currently the 'ssl' module is compiled with 'LibreSSL 2.8.3'. See: https://github.com/urllib3/urllib3/issues/3020\n",
      "  warnings.warn(\n"
     ]
    },
    {
     "name": "stdout",
     "output_type": "stream",
     "text": [
      "Resuming from address row 5949\n",
      "[5949] Processing 1PoG76dsBxa1ezijijXzsLLovdRh2e3sD4\n",
      "[5950] Processing 1poLkQ6bfYek3y75i19wu7Uqxk2c9sZfk\n",
      "[5951] Processing 1PorSy4F9KReWCzuSkqaqip8tDdCvM9B28\n"
     ]
    },
    {
     "ename": "KeyboardInterrupt",
     "evalue": "",
     "output_type": "error",
     "traceback": [
      "\u001b[0;31m---------------------------------------------------------------------------\u001b[0m",
      "\u001b[0;31mKeyboardInterrupt\u001b[0m                         Traceback (most recent call last)",
      "Cell \u001b[0;32mIn[2], line 76\u001b[0m\n\u001b[1;32m     74\u001b[0m         writer\u001b[38;5;241m.\u001b[39mwriterow([address] \u001b[38;5;241m+\u001b[39m features \u001b[38;5;241m+\u001b[39m [label, category])\n\u001b[1;32m     75\u001b[0m         file\u001b[38;5;241m.\u001b[39mflush()\n\u001b[0;32m---> 76\u001b[0m         \u001b[43mtime\u001b[49m\u001b[38;5;241;43m.\u001b[39;49m\u001b[43msleep\u001b[49m\u001b[43m(\u001b[49m\u001b[38;5;241;43m1\u001b[39;49m\u001b[43m)\u001b[49m\n\u001b[1;32m     78\u001b[0m \u001b[38;5;28mprint\u001b[39m(\u001b[38;5;124mf\u001b[39m\u001b[38;5;124m\"\u001b[39m\u001b[38;5;124mCompleted batch of \u001b[39m\u001b[38;5;132;01m{\u001b[39;00m\u001b[38;5;28mlen\u001b[39m(batch_df)\u001b[38;5;132;01m}\u001b[39;00m\u001b[38;5;124m addresses.\u001b[39m\u001b[38;5;124m\"\u001b[39m)\n",
      "\u001b[0;31mKeyboardInterrupt\u001b[0m: "
     ]
    }
   ],
   "source": [
    "import os\n",
    "import csv\n",
    "import time\n",
    "from blockcypher import get_address_details\n",
    "from dotenv import load_dotenv\n",
    "\n",
    "# Load API key\n",
    "load_dotenv()\n",
    "API_token= os.getenv(\"BLOCKCYPHER_API_KEY\")\n",
    "\n",
    "wallets_df = pd.read_csv('wallets_labeled.csv')\n",
    "output_file = 'api_extracted_wallet_features.csv'\n",
    "\n",
    "columns = [\n",
    "    'address', 'balance', 'total_received', 'total_sent', 'n_tx', 'final_balance', 'unconfirmed_balance', 'final_n_tx',\n",
    "    'num_txrefs', 'total_confirmations', 'avg_tx_value', 'label', 'category'\n",
    "]\n",
    "\n",
    "if os.path.exists(output_file):\n",
    "    with open(output_file, 'r') as f:\n",
    "        file_lines = sum(1 for line in f)\n",
    "    processed_count = max(0, file_lines - 1)\n",
    "    resume_from = processed_count + 1\n",
    "    print(f\"Resuming from address row {resume_from + 1}\")\n",
    "else:\n",
    "    processed_count = 0\n",
    "    with open(output_file, 'w', newline='') as f:\n",
    "        writer = csv.writer(f)\n",
    "        writer.writerow(columns)\n",
    "    print(\"Starting fresh\")\n",
    "\n",
    "batch_df = wallets_df.iloc[resume_from:]\n",
    "\n",
    "def extract_features(address):\n",
    "    while True:\n",
    "        try:\n",
    "            data = get_address_details(address, api_key=API_token)\n",
    "\n",
    "            balance = data.get('balance', 0)\n",
    "            received = data.get('total_received', 0)\n",
    "            sent = data.get('total_sent', 0)\n",
    "            tx_count = data.get('n_tx', 0)\n",
    "            final_balance = data.get('final_balance', 0)\n",
    "            unconfirmed_balance = data.get('unconfirmed_balance', 0)\n",
    "            final_n_tx = data.get('final_n_tx', 0)\n",
    "\n",
    "            txrefs = data.get('txrefs', [])\n",
    "            num_txrefs = len(txrefs)\n",
    "            total_confirmations = sum(tx.get('confirmations', 0) for tx in txrefs)\n",
    "            avg_tx_value = sum(tx.get('value', 0) for tx in txrefs) / num_txrefs if num_txrefs > 0 else 0\n",
    "\n",
    "            return [\n",
    "                balance, received, sent, tx_count,\n",
    "                final_balance, unconfirmed_balance, final_n_tx,\n",
    "                num_txrefs, total_confirmations, avg_tx_value\n",
    "            ]\n",
    "\n",
    "        except Exception as e:\n",
    "            if '429' in str(e):\n",
    "                print(\"Max rate limit reached...\")\n",
    "                time.sleep(120)\n",
    "                continue\n",
    "            else:\n",
    "                print(f\"Failed for {address}: {e}\")\n",
    "                return [0]*10\n",
    "\n",
    "\n",
    "with open(output_file, 'a', newline='') as file:\n",
    "    writer = csv.writer(file)\n",
    "\n",
    "    for idx, row in batch_df.iterrows():\n",
    "        address = row['address']\n",
    "        label = row['label']\n",
    "        category = row['category']\n",
    "\n",
    "        print(f\"[{idx + 1}] Processing {address}\")\n",
    "        features = extract_features(address)\n",
    "        writer.writerow([address] + features + [label, category])\n",
    "        file.flush()\n",
    "        time.sleep(1)\n",
    "\n",
    "print(f\"Completed batch of {len(batch_df)} addresses.\")"
   ]
  },
  {
   "cell_type": "markdown",
   "id": "d7c27ebcc6bef548",
   "metadata": {},
   "source": [
    "Extracting from suspicious dataset"
   ]
  },
  {
   "cell_type": "code",
   "execution_count": 3,
   "id": "84b87cd9ab33906b",
   "metadata": {
    "ExecuteTime": {
     "end_time": "2025-06-20T17:13:55.034838Z",
     "start_time": "2025-06-20T16:49:39.341177Z"
    }
   },
   "outputs": [
    {
     "name": "stdout",
     "output_type": "stream",
     "text": [
      "Resuming from suspicious row 5685\n",
      "Suspicious wallet feature extraction complete.\n"
     ]
    }
   ],
   "source": [
    "output_file2 = 'api_extracted_suspicious_features.csv'\n",
    "suspicious_df = pd.read_csv('btc_wallets_data.csv')\n",
    "suspicious_df['label'] = 1\n",
    "suspicious_df['category'] = 'suspicious'\n",
    "\n",
    "existing_cols = ['address', 'total_received', 'total_sent', 'n_tx', 'final_balance']\n",
    "api_cols = ['balance', 'unconfirmed_balance', 'final_n_tx', 'num_txrefs', 'total_confirmations', 'avg_tx_value']\n",
    "all_columns = ['address'] + api_cols + existing_cols[1:] + ['label', 'category']\n",
    "\n",
    "# Handle resuming\n",
    "if os.path.exists(output_file2):\n",
    "    with open(output_file2, 'r') as f2:\n",
    "        file_lines = sum(1 for line in f2)\n",
    "    resume_index = max(0, file_lines - 1)\n",
    "    print(f\"Resuming from suspicious row {resume_index + 1}\")\n",
    "else:\n",
    "    resume_index = 0\n",
    "    with open(output_file2, 'w', newline='') as f2:\n",
    "        writer = csv.writer(f2)\n",
    "        writer.writerow(all_columns)\n",
    "    print(\"Starting new suspicious extraction file.\")\n",
    "\n",
    "# Filter for unprocessed addresses\n",
    "remaining_df = suspicious_df\n",
    "batch_df = remaining_df.iloc[resume_index:]\n",
    "\n",
    "def extract_api_features(address):\n",
    "    while True:\n",
    "        try:\n",
    "            data = get_address_details(address, api_key=API_token)\n",
    "            txrefs = data.get('txrefs', [])\n",
    "            num_txrefs = len(txrefs)\n",
    "            total_confirmations = sum(tx.get('confirmations', 0) for tx in txrefs)\n",
    "            avg_tx_value = sum(tx.get('value', 0) for tx in txrefs) / num_txrefs if num_txrefs > 0 else 0\n",
    "            return [\n",
    "                data.get('balance', 0),\n",
    "                data.get('unconfirmed_balance', 0),\n",
    "                data.get('final_n_tx', 0),\n",
    "                num_txrefs,\n",
    "                total_confirmations,\n",
    "                avg_tx_value\n",
    "            ]\n",
    "        except Exception as e:\n",
    "            if '429' in str(e):\n",
    "                print(\"Max rate limit reached...\")\n",
    "                time.sleep(120)\n",
    "                continue\n",
    "            else:\n",
    "                print(f\"Failed for {address}: {e}\")\n",
    "                return [0] * 6\n",
    "\n",
    "with open(output_file2, 'a', newline='') as f:\n",
    "    writer = csv.writer(f)\n",
    "\n",
    "    for idx, row in batch_df.iterrows():\n",
    "        address = row['address']\n",
    "        print(f\"[{idx + 1}] Processing {address}\")\n",
    "\n",
    "        api_data = extract_api_features(address)\n",
    "        existing_data = [\n",
    "            row.get('total_received', 0),\n",
    "            row.get('total_sent', 0),\n",
    "            row.get('n_tx', 0),\n",
    "            row.get('final_balance', 0)\n",
    "        ]\n",
    "        writer.writerow([address] + api_data + existing_data + [row['label'], row['category']])\n",
    "        f.flush()\n",
    "        time.sleep(1)\n",
    "\n",
    "print(\"Suspicious wallet feature extraction complete.\")\n"
   ]
  },
  {
   "cell_type": "markdown",
   "id": "fae1db4c",
   "metadata": {},
   "source": [
    "Clean out empty rows and merge datasets"
   ]
  },
  {
   "cell_type": "code",
   "execution_count": 4,
   "id": "8f5e3ed8",
   "metadata": {},
   "outputs": [
    {
     "name": "stdout",
     "output_type": "stream",
     "text": [
      "Combined dataset saved: 10022 rows after removing zero-feature addresses.\n",
      "Risky addresses: 4976\n",
      "Non-risky addresses: 5046\n"
     ]
    }
   ],
   "source": [
    "import pandas as pd\n",
    "\n",
    "normal_file = 'api_extracted_wallet_features.csv'\n",
    "suspicious_file = 'api_extracted_suspicious_features.csv'\n",
    "\n",
    "normal_df = pd.read_csv(normal_file)\n",
    "suspicious_df = pd.read_csv(suspicious_file)\n",
    "\n",
    "numeric_cols = [\n",
    "    'balance', 'total_received', 'total_sent', 'n_tx', 'final_balance', 'unconfirmed_balance', 'final_n_tx',\n",
    "    'num_txrefs', 'total_confirmations', 'avg_tx_value'\n",
    "]\n",
    "\n",
    "normal_df = normal_df[~(normal_df[numeric_cols] == 0).all(axis=1)]\n",
    "suspicious_df = suspicious_df[~(suspicious_df[numeric_cols] == 0).all(axis=1)]\n",
    "\n",
    "# Match column order\n",
    "suspicious_df = suspicious_df[normal_df.columns]\n",
    "\n",
    "# Merge both\n",
    "combined_df = pd.concat([normal_df, suspicious_df], ignore_index=True)\n",
    "# Drop duplicates\n",
    "combined_df = combined_df.drop_duplicates(subset='address')\n",
    "combined_df.to_csv('combined_wallet_features.csv', index=False)\n",
    "\n",
    "total_rows = len(combined_df)\n",
    "num_risky = combined_df['label'].sum()\n",
    "num_nonrisky = total_rows - num_risky\n",
    "\n",
    "print(f\"Combined dataset saved: {total_rows} rows after removing zero-feature addresses.\")\n",
    "print(f\"Risky addresses: {num_risky}\")\n",
    "print(f\"Non-risky addresses: {num_nonrisky}\")"
   ]
  },
  {
   "cell_type": "markdown",
   "id": "d111f031",
   "metadata": {},
   "source": [
    "Train model"
   ]
  },
  {
   "cell_type": "code",
   "execution_count": null,
   "id": "eb0f5ec5",
   "metadata": {},
   "outputs": [
    {
     "name": "stdout",
     "output_type": "stream",
     "text": [
      "\n",
      "\t--- Random Forest ---\n",
      "              precision    recall  f1-score   support\n",
      "\n",
      "           0       0.92      0.96      0.94      1010\n",
      "           1       0.96      0.92      0.94       995\n",
      "\n",
      "    accuracy                           0.94      2005\n",
      "   macro avg       0.94      0.94      0.94      2005\n",
      "weighted avg       0.94      0.94      0.94      2005\n",
      "\n",
      "Macro F1-Score for Random Forest: 0.9401\n",
      "\n",
      "\t--- Logistic Regression ---\n",
      "              precision    recall  f1-score   support\n",
      "\n",
      "           0       0.53      0.98      0.69      1010\n",
      "           1       0.85      0.10      0.18       995\n",
      "\n",
      "    accuracy                           0.55      2005\n",
      "   macro avg       0.69      0.54      0.43      2005\n",
      "weighted avg       0.69      0.55      0.44      2005\n",
      "\n",
      "Macro F1-Score for Logistic Regression: 0.4332\n",
      "\n",
      "\t--- K-Nearest Neighbors ---\n",
      "              precision    recall  f1-score   support\n",
      "\n",
      "           0       0.76      0.88      0.81      1010\n",
      "           1       0.85      0.72      0.78       995\n",
      "\n",
      "    accuracy                           0.80      2005\n",
      "   macro avg       0.81      0.80      0.80      2005\n",
      "weighted avg       0.81      0.80      0.80      2005\n",
      "\n",
      "Macro F1-Score for K-Nearest Neighbors: 0.7971\n",
      "\n",
      "\t--- Support Vector Machine ---\n",
      "              precision    recall  f1-score   support\n",
      "\n",
      "           0       0.50      1.00      0.67      1010\n",
      "           1       0.00      0.00      0.00       995\n",
      "\n",
      "    accuracy                           0.50      2005\n",
      "   macro avg       0.25      0.50      0.33      2005\n",
      "weighted avg       0.25      0.50      0.34      2005\n",
      "\n",
      "Macro F1-Score for Support Vector Machine: 0.3350\n",
      "\n",
      "\t--- Decision Tree ---\n",
      "              precision    recall  f1-score   support\n",
      "\n",
      "           0       0.93      0.92      0.93      1010\n",
      "           1       0.92      0.93      0.93       995\n",
      "\n",
      "    accuracy                           0.93      2005\n",
      "   macro avg       0.93      0.93      0.93      2005\n",
      "weighted avg       0.93      0.93      0.93      2005\n",
      "\n",
      "Macro F1-Score for Decision Tree: 0.9277\n",
      "\n",
      "Saved Best Model: Random Forest with Macro F1-Score = 0.9401\n",
      "\n",
      "Feature Importances:\n",
      "total_confirmations: 0.4559\n",
      "avg_tx_value: 0.1305\n",
      "num_txrefs: 0.1120\n",
      "final_n_tx: 0.0772\n",
      "n_tx: 0.0702\n",
      "total_sent: 0.0522\n",
      "total_received: 0.0509\n",
      "final_balance: 0.0419\n",
      "balance: 0.0091\n",
      "unconfirmed_balance: 0.0000\n"
     ]
    },
    {
     "name": "stderr",
     "output_type": "stream",
     "text": [
      "/Users/mariyemahmed/Desktop/AML_Screener/.venv/lib/python3.9/site-packages/sklearn/metrics/_classification.py:1565: UndefinedMetricWarning: Precision is ill-defined and being set to 0.0 in labels with no predicted samples. Use `zero_division` parameter to control this behavior.\n",
      "  _warn_prf(average, modifier, f\"{metric.capitalize()} is\", len(result))\n",
      "/Users/mariyemahmed/Desktop/AML_Screener/.venv/lib/python3.9/site-packages/sklearn/metrics/_classification.py:1565: UndefinedMetricWarning: Precision is ill-defined and being set to 0.0 in labels with no predicted samples. Use `zero_division` parameter to control this behavior.\n",
      "  _warn_prf(average, modifier, f\"{metric.capitalize()} is\", len(result))\n",
      "/Users/mariyemahmed/Desktop/AML_Screener/.venv/lib/python3.9/site-packages/sklearn/metrics/_classification.py:1565: UndefinedMetricWarning: Precision is ill-defined and being set to 0.0 in labels with no predicted samples. Use `zero_division` parameter to control this behavior.\n",
      "  _warn_prf(average, modifier, f\"{metric.capitalize()} is\", len(result))\n",
      "/Users/mariyemahmed/Desktop/AML_Screener/.venv/lib/python3.9/site-packages/sklearn/metrics/_classification.py:1565: UndefinedMetricWarning: Precision is ill-defined and being set to 0.0 in labels with no predicted samples. Use `zero_division` parameter to control this behavior.\n",
      "  _warn_prf(average, modifier, f\"{metric.capitalize()} is\", len(result))\n",
      "/Users/mariyemahmed/Desktop/AML_Screener/.venv/lib/python3.9/site-packages/sklearn/metrics/_classification.py:1565: UndefinedMetricWarning: Precision is ill-defined and being set to 0.0 in labels with no predicted samples. Use `zero_division` parameter to control this behavior.\n",
      "  _warn_prf(average, modifier, f\"{metric.capitalize()} is\", len(result))\n",
      "/Users/mariyemahmed/Desktop/AML_Screener/.venv/lib/python3.9/site-packages/sklearn/metrics/_classification.py:1565: UndefinedMetricWarning: Precision is ill-defined and being set to 0.0 in labels with no predicted samples. Use `zero_division` parameter to control this behavior.\n",
      "  _warn_prf(average, modifier, f\"{metric.capitalize()} is\", len(result))\n"
     ]
    }
   ],
   "source": [
    "import pandas as pd\n",
    "from sklearn.model_selection import train_test_split\n",
    "from sklearn.metrics import classification_report\n",
    "from sklearn.ensemble import RandomForestClassifier\n",
    "from sklearn.linear_model import LogisticRegression\n",
    "from sklearn.neighbors import KNeighborsClassifier\n",
    "from sklearn.svm import SVC\n",
    "from sklearn.tree import DecisionTreeClassifier\n",
    "import joblib\n",
    "\n",
    "df = pd.read_csv(\"combined_wallet_features.csv\")\n",
    "df = df.drop(columns=[\"address\", \"category\"], errors=\"ignore\")\n",
    "df = df.dropna()\n",
    "\n",
    "X = df.drop(columns=[\"label\"])\n",
    "y = df[\"label\"]\n",
    "\n",
    "X_train, X_test, y_train, y_test = train_test_split(X, y, stratify=y, test_size=0.2, random_state=42)\n",
    "\n",
    "# Define models to compare\n",
    "models = {\n",
    "    \"Random Forest\": RandomForestClassifier(random_state=42),\n",
    "    \"Logistic Regression\": LogisticRegression(max_iter=1000),\n",
    "    \"K-Nearest Neighbors\": KNeighborsClassifier(),\n",
    "    \"Support Vector Machine\": SVC(),\n",
    "    \"Decision Tree\": DecisionTreeClassifier(random_state=42)\n",
    "}\n",
    "\n",
    "best_score = 0\n",
    "best_model = None\n",
    "best_name = \"\"\n",
    "# Train and evaluate\n",
    "for name, model in models.items():\n",
    "    print(f\"\\n\\t--- {name} ---\")\n",
    "    model.fit(X_train, y_train)\n",
    "    y_pred = model.predict(X_test)\n",
    "    report = classification_report(y_test, y_pred, output_dict=True)\n",
    "    macro_f1 = report[\"macro avg\"][\"f1-score\"]  \n",
    "    print(classification_report(y_test, y_pred))\n",
    "\n",
    "    print(f\"Macro F1-Score for {name}: {macro_f1:.4f}\")\n",
    "\n",
    "    if macro_f1 > best_score:\n",
    "        best_score = macro_f1\n",
    "        best_model = model\n",
    "        best_name = name\n",
    "\n",
    "print(f\"\\nSaved Best Model: {best_name} with Macro F1-Score = {best_score:.4f}\")\n",
    "joblib.dump(best_model, \"wallet_risk_model.pkl\")\n",
    "\n",
    "# Show each feature's importance\n",
    "if hasattr(best_model, \"feature_importances_\"):\n",
    "    importance = best_model.feature_importances_\n",
    "    features = X.columns\n",
    "    sorted_idx = importance.argsort()[::-1]\n",
    "\n",
    "    print(\"\\nFeature Importances:\")\n",
    "    for i in sorted_idx:\n",
    "        print(f\"{features[i]}: {importance[i]:.4f}\")"
   ]
  },
  {
   "cell_type": "markdown",
   "id": "f7be2551",
   "metadata": {},
   "source": [
    "Clustering"
   ]
  },
  {
   "cell_type": "code",
   "execution_count": 15,
   "id": "a81714cd",
   "metadata": {},
   "outputs": [
    {
     "name": "stdout",
     "output_type": "stream",
     "text": [
      "label           0         1\n",
      "cluster                    \n",
      "0        0.502803  0.497197\n",
      "1        1.000000  0.000000\n",
      "2        1.000000  0.000000\n",
      "3        1.000000  0.000000\n",
      "4        0.692308  0.307692\n"
     ]
    },
    {
     "data": {
      "text/plain": [
       "['kmeans_cluster_model.pkl']"
      ]
     },
     "execution_count": 15,
     "metadata": {},
     "output_type": "execute_result"
    }
   ],
   "source": [
    "from sklearn.cluster import KMeans\n",
    "\n",
    "df = pd.read_csv(\"combined_wallet_features.csv\")\n",
    "df = df.drop(columns=[\"address\", \"category\"], errors=\"ignore\")\n",
    "df = df.dropna()\n",
    "\n",
    "# Extract features and label\n",
    "X = df.drop(columns=[\"label\"])\n",
    "y = df[\"label\"]\n",
    "\n",
    "# Add clustering\n",
    "kmeans = KMeans(n_clusters=5, random_state=42)\n",
    "df[\"cluster\"] = kmeans.fit_predict(X)\n",
    "\n",
    "# Analyze cluster riskiness\n",
    "cluster_risk_summary = df.groupby(\"cluster\")[\"label\"].value_counts(normalize=True).unstack().fillna(0)\n",
    "print(cluster_risk_summary)\n",
    "\n",
    "joblib.dump(kmeans, 'kmeans_cluster_model.pkl')"
   ]
  }
 ],
 "metadata": {
  "kernelspec": {
   "display_name": ".venv",
   "language": "python",
   "name": "python3"
  },
  "language_info": {
   "codemirror_mode": {
    "name": "ipython",
    "version": 3
   },
   "file_extension": ".py",
   "mimetype": "text/x-python",
   "name": "python",
   "nbconvert_exporter": "python",
   "pygments_lexer": "ipython3",
   "version": "3.9.6"
  }
 },
 "nbformat": 4,
 "nbformat_minor": 5
}
